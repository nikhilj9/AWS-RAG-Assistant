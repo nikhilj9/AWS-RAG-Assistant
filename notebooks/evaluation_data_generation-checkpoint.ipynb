{
 "cells": [
  {
   "cell_type": "code",
   "execution_count": 1,
   "id": "053256a4-7d10-4c6c-b36d-d3fa94122616",
   "metadata": {},
   "outputs": [],
   "source": [
    "import pandas as pd"
   ]
  },
  {
   "cell_type": "markdown",
   "id": "36240f5e-fec3-4db8-a337-3b498364d5d8",
   "metadata": {},
   "source": [
    "## Retrieval Evaluation"
   ]
  },
  {
   "cell_type": "code",
   "execution_count": 3,
   "id": "e0f1414e-42a4-4ac9-96dc-ea5ad4f0b47e",
   "metadata": {},
   "outputs": [],
   "source": [
    "df = pd.read_json('../data/AWSBedrockRAG.json')\n",
    "documents = df.to_dict(orient='records')"
   ]
  },
  {
   "cell_type": "code",
   "execution_count": 4,
   "id": "c36f410e-7c39-4d63-b187-7e0d9b4ad2bf",
   "metadata": {},
   "outputs": [],
   "source": [
    "import boto3\n",
    "import os"
   ]
  },
  {
   "cell_type": "code",
   "execution_count": 5,
   "id": "5c868879-ab13-4209-8a3b-ab0424898a7f",
   "metadata": {},
   "outputs": [
    {
     "data": {
      "text/plain": [
       "True"
      ]
     },
     "execution_count": 5,
     "metadata": {},
     "output_type": "execute_result"
    }
   ],
   "source": [
    "from dotenv import load_dotenv\n",
    "load_dotenv()"
   ]
  },
  {
   "cell_type": "code",
   "execution_count": 6,
   "id": "29e64e08-b566-4a1b-9945-2a702335c5c9",
   "metadata": {},
   "outputs": [],
   "source": [
    "client =  boto3.client(\n",
    "    service_name = \"bedrock-runtime\",\n",
    "    region_name = \"us-east-1\"\n",
    ")"
   ]
  },
  {
   "cell_type": "code",
   "execution_count": 7,
   "id": "caae2e73-c447-4446-aa7c-92401aa82a4a",
   "metadata": {},
   "outputs": [],
   "source": [
    "prompt_template = \"\"\"\n",
    "You emulate a user of our aws bedrock assistant application.\n",
    "Formulate 5 questions this user might ask based on a provided content.\n",
    "Make the questions specific to this content.\n",
    "The record should contain the answer to the questions, and the questions should\n",
    "be complete and not too short. Use as fewer words as possible from the record. \n",
    "\n",
    "The record:\n",
    "\n",
    "id: {id}\n",
    "service: {service}\n",
    "category: {category}\n",
    "title: {title}\n",
    "content: {content}\n",
    "tags: {tags}\n",
    "\n",
    "Provide the output in parsable JSON without using code blocks:\n",
    "\n",
    "{{\"questions\": [\"question1\", \"question2\", ..., \"question5\"]}}\n",
    "\"\"\".strip()"
   ]
  },
  {
   "cell_type": "code",
   "execution_count": 8,
   "id": "b290bc40-f5eb-45b6-a163-a04f37fa3513",
   "metadata": {},
   "outputs": [],
   "source": [
    "prompt = prompt_template.format(**documents[0])"
   ]
  },
  {
   "cell_type": "code",
   "execution_count": 9,
   "id": "e58bc72a-e082-409b-8621-5d5033f0c54c",
   "metadata": {},
   "outputs": [],
   "source": [
    "def llm(prompt, model):\n",
    "    client = boto3.client(\"bedrock-runtime\", region_name=\"us-east-1\")\n",
    "\n",
    "    messages = [{\"role\": \"user\", \"content\": [{\"text\": prompt}] }]\n",
    "\n",
    "    inference_config = {\"temperature\": 0.1, \"topP\": 0.9}\n",
    "\n",
    "    response = client.converse(modelId=model, messages=messages, inferenceConfig=inference_config)\n",
    "    \n",
    "    try:\n",
    "        return response[\"output\"][\"message\"][\"content\"][0][\"text\"]\n",
    "    except (KeyError, IndexError, TypeError):\n",
    "        return \"\""
   ]
  },
  {
   "cell_type": "code",
   "execution_count": 10,
   "id": "687a577c-530e-49f8-b7ac-d543ca451a1b",
   "metadata": {},
   "outputs": [],
   "source": [
    "model_id = \"amazon.nova-micro-v1:0\"\n",
    "questions = llm(prompt, model_id)"
   ]
  },
  {
   "cell_type": "code",
   "execution_count": 11,
   "id": "50c43f2e-5482-4036-9043-ce592dfbd5ef",
   "metadata": {},
   "outputs": [],
   "source": [
    "import json"
   ]
  },
  {
   "cell_type": "code",
   "execution_count": 12,
   "id": "c065f73e-d9d0-411f-9a42-3d065e20c47b",
   "metadata": {},
   "outputs": [
    {
     "data": {
      "text/plain": [
       "{'questions': ['What is the definition of a foundation model in Amazon Bedrock?',\n",
       "  'How can a foundation model generate a variety of responses?',\n",
       "  'What types of data can a foundation model convert into embeddings?',\n",
       "  'What is required before using an Amazon Bedrock foundation model?',\n",
       "  'What are the different use cases for a foundation model?']}"
      ]
     },
     "execution_count": 12,
     "metadata": {},
     "output_type": "execute_result"
    }
   ],
   "source": [
    "json.loads(questions)"
   ]
  },
  {
   "cell_type": "code",
   "execution_count": 11,
   "id": "e0dc15d0-6f80-4273-bfed-9f6d383aa0d6",
   "metadata": {},
   "outputs": [],
   "source": [
    "def generate_questions(doc):\n",
    "    model_id = \"amazon.nova-micro-v1:0\"\n",
    "    prompt = prompt_template.format(**doc)\n",
    "    \n",
    "    json_response = llm(prompt, model_id)\n",
    "    return json_response"
   ]
  },
  {
   "cell_type": "code",
   "execution_count": 12,
   "id": "5a6a702c-5805-454f-a9bf-fc5c67626c9a",
   "metadata": {},
   "outputs": [],
   "source": [
    "from tqdm.auto import tqdm\n",
    "import random"
   ]
  },
  {
   "cell_type": "code",
   "execution_count": 13,
   "id": "951b289f-7c00-4d71-857b-68415b54e6d6",
   "metadata": {},
   "outputs": [],
   "source": [
    "chosen_indices = ()\n",
    "def process_random_by_index(documents, k, seed=None):\n",
    "    if seed is not None:\n",
    "        random.seed(seed)\n",
    "    n = len(documents)\n",
    "    k = min(k, n)\n",
    "    chosen_indices = set(random.sample(range(n), k))\n",
    "\n",
    "    return chosen_indices"
   ]
  },
  {
   "cell_type": "code",
   "execution_count": 14,
   "id": "3612ad00-c83d-4625-b354-b2e84965ca3d",
   "metadata": {},
   "outputs": [],
   "source": [
    "chosen_indices = process_random_by_index(documents, 324, 42)"
   ]
  },
  {
   "cell_type": "code",
   "execution_count": 15,
   "id": "0600c3df-0efc-41eb-8b2e-acbca9bf7ff8",
   "metadata": {},
   "outputs": [],
   "source": [
    "from collections import defaultdict\n",
    "results = defaultdict(list)"
   ]
  },
  {
   "cell_type": "code",
   "execution_count": 16,
   "id": "e55bcec7-e5b6-46c2-963a-dfe6580139fc",
   "metadata": {},
   "outputs": [
    {
     "data": {
      "application/vnd.jupyter.widget-view+json": {
       "model_id": "2d4b741617264f26ae4f92f14e7e4abc",
       "version_major": 2,
       "version_minor": 0
      },
      "text/plain": [
       "  0%|          | 0/324 [00:00<?, ?it/s]"
      ]
     },
     "metadata": {},
     "output_type": "display_data"
    }
   ],
   "source": [
    "for j in tqdm(chosen_indices):\n",
    "\n",
    "    if results[j] != []:\n",
    "        continue\n",
    "\n",
    "    doc = documents[j]\n",
    "\n",
    "    questions_raw = generate_questions(doc)\n",
    "    questions = json.loads(questions_raw)\n",
    "    results[j] = questions['questions']"
   ]
  },
  {
   "cell_type": "code",
   "execution_count": 17,
   "id": "79cbb86e-f432-4803-bd49-04e95c64e388",
   "metadata": {},
   "outputs": [],
   "source": [
    "final_results = []\n",
    "\n",
    "for doc_id, questions in results.items():\n",
    "    for q in questions:\n",
    "        final_results.append((doc_id, q))"
   ]
  },
  {
   "cell_type": "code",
   "execution_count": 18,
   "id": "a3238eb5-a45e-4aa8-80a4-6ad22bc57acd",
   "metadata": {},
   "outputs": [
    {
     "data": {
      "text/plain": [
       "(0, 'What is required before using an Amazon Bedrock foundation model?')"
      ]
     },
     "execution_count": 18,
     "metadata": {},
     "output_type": "execute_result"
    }
   ],
   "source": [
    "final_results[3]"
   ]
  },
  {
   "cell_type": "code",
   "execution_count": 19,
   "id": "915066ff-5b9e-40f1-bf15-2cb2dbae8873",
   "metadata": {},
   "outputs": [],
   "source": [
    "df_results = pd.DataFrame(final_results, columns=['id', 'question'])"
   ]
  },
  {
   "cell_type": "code",
   "execution_count": 20,
   "id": "491a44c1-8afa-4ef6-9dc8-8ba94c1ee683",
   "metadata": {},
   "outputs": [],
   "source": [
    "df_results.to_csv('data/ground-truth-retrieval.csv', index=False)"
   ]
  },
  {
   "cell_type": "code",
   "execution_count": 21,
   "id": "261deb1e-f1a6-4a0a-ac98-0405b1edcc7a",
   "metadata": {},
   "outputs": [
    {
     "name": "stdout",
     "output_type": "stream",
     "text": [
      "id,question\n",
      "0,What is the definition of a foundation model in Amazon Bedrock?\n",
      "0,How can a foundation model generate a variety of responses?\n",
      "0,What types of outputs can a foundation model produce?\n",
      "0,What is required before using an Amazon Bedrock foundation model?\n",
      "0,What are the key tags associated with Amazon Bedrock foundation models?\n",
      "1,What is the id of the Amazon Bedrock base model?\n",
      "1,Which service provides the bedrock-base-model-002?\n",
      "1,What category does the base model from Amazon Bedrock fall under?\n",
      "1,What does the term 'base model' signify in the context of Amazon Bedrock?\n"
     ]
    }
   ],
   "source": [
    "!head data/ground-truth-retrieval.csv"
   ]
  }
 ],
 "metadata": {
  "kernelspec": {
   "display_name": "Python 3 (ipykernel)",
   "language": "python",
   "name": "python3"
  },
  "language_info": {
   "codemirror_mode": {
    "name": "ipython",
    "version": 3
   },
   "file_extension": ".py",
   "mimetype": "text/x-python",
   "name": "python",
   "nbconvert_exporter": "python",
   "pygments_lexer": "ipython3",
   "version": "3.10.11"
  }
 },
 "nbformat": 4,
 "nbformat_minor": 5
}
